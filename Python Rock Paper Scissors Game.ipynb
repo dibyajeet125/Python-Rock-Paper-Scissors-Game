{
 "cells": [
  {
   "cell_type": "code",
   "execution_count": 16,
   "id": "98a43a41",
   "metadata": {},
   "outputs": [],
   "source": [
    "import tkinter as tk\n",
    "import random\n",
    "\n",
    "class RockPaperScissorsGame:\n",
    "    def __init__(self, root):\n",
    "        self.root = root\n",
    "        self.root.geometry('400x400')\n",
    "        self.root.resizable(0, 0)\n",
    "        self.root.title('Rock, Paper, Scissors')\n",
    "        self.root.config(bg='lightblue')  \n",
    "\n",
    "        self.user_choice = tk.StringVar()\n",
    "        self.result = tk.StringVar()\n",
    "\n",
    "        self.create_widgets()\n",
    "\n",
    "    def create_widgets(self):\n",
    "        tk.Label(self.root, text='Rock, Paper, Scissors', font='Helvetica 20 bold', bg='lightcoral').pack()\n",
    "\n",
    "        tk.Label(self.root, text='Choose: rock, paper, scissors', font='Helvetica 15 bold', bg='lightcoral').place(x=55, y=70)\n",
    "        tk.Entry(self.root, font='Helvetica 15', textvariable=self.user_choice, bg='mistyrose').place(x=90, y=130)\n",
    "\n",
    "        tk.Entry(self.root, font='Helvetica 10 bold', textvariable=self.result, bg='mistyrose', width=50).place(x=25, y=250)\n",
    "\n",
    "        tk.Button(self.root, text='PLAY', font='Helvetica 13 bold', padx=5, bg='lightgreen', command=self.play).place(x=150, y=190)\n",
    "        tk.Button(self.root, text='RESET', font='Helvetica 13 bold', padx=5, bg='lightgreen', command=self.reset).place(x=70, y=310)\n",
    "        tk.Button(self.root, text='EXIT', font='Helvetica 13 bold', padx=5, bg='lightgreen', command=self.exit).place(x=230, y=310)\n",
    "\n",
    "    def play(self):\n",
    "        choices = ['rock', 'paper', 'scissors']\n",
    "        user_pick = self.user_choice.get().lower()\n",
    "        comp_pick = random.choice(choices)\n",
    "\n",
    "        if user_pick in choices:\n",
    "            if user_pick == comp_pick:\n",
    "                self.result.set('It\\'s a tie! You both selected {}'.format(user_pick))\n",
    "            elif (user_pick == 'rock' and comp_pick == 'scissors') or \\\n",
    "                 (user_pick == 'paper' and comp_pick == 'rock') or \\\n",
    "                 (user_pick == 'scissors' and comp_pick == 'paper'):\n",
    "                self.result.set('You win! Computer selected {}'.format(comp_pick))\n",
    "            else:\n",
    "                self.result.set('You lose! Computer selected {}'.format(comp_pick))\n",
    "        else:\n",
    "            self.result.set('Invalid choice. Choose: rock, paper, scissors')\n",
    "\n",
    "    def reset(self):\n",
    "        self.user_choice.set('')\n",
    "        self.result.set('')\n",
    "\n",
    "    def exit(self):\n",
    "        self.root.destroy()\n",
    "\n",
    "if __name__ == \"__main__\":\n",
    "    root = tk.Tk()\n",
    "    game = RockPaperScissorsGame(root)\n",
    "    root.mainloop()\n"
   ]
  },
  {
   "cell_type": "code",
   "execution_count": null,
   "id": "9357c5bd",
   "metadata": {},
   "outputs": [],
   "source": []
  }
 ],
 "metadata": {
  "kernelspec": {
   "display_name": "Python 3 (ipykernel)",
   "language": "python",
   "name": "python3"
  },
  "language_info": {
   "codemirror_mode": {
    "name": "ipython",
    "version": 3
   },
   "file_extension": ".py",
   "mimetype": "text/x-python",
   "name": "python",
   "nbconvert_exporter": "python",
   "pygments_lexer": "ipython3",
   "version": "3.11.4"
  }
 },
 "nbformat": 4,
 "nbformat_minor": 5
}
